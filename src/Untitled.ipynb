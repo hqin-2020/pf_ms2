{
 "cells": [
  {
   "cell_type": "code",
   "execution_count": 1,
   "id": "a6a1ac23",
   "metadata": {},
   "outputs": [],
   "source": [
    "import numpy as np\n",
    "import scipy as sp\n",
    "import pandas as pd\n",
    "import matplotlib.pyplot as plt\n",
    "import multiprocessing\n",
    "import seaborn as sns\n",
    "import time\n",
    "from pa import *\n",
    "from tqdm import tqdm\n",
    "import pickle\n",
    "import os\n",
    "sns.set()\n",
    "workdir = os.path.dirname(os.getcwd())\n",
    "srcdir = os.getcwd()\n",
    "datadir = workdir + '/data/'\n",
    "outputdir = workdir + '/output/'\n",
    "docdir = workdir + '/doc/'\n",
    "\n",
    "obs_series = pd.read_csv(datadir + 'data.csv', delimiter=',')\n",
    "obs_series = np.array(obs_series.iloc[:,1:]).T\n",
    "\n",
    "T = obs_series.shape[1]\n",
    "N = 100_000\n",
    "batch_num = 151\n",
    "\n",
    "θ_name = ['λ', 'η', \\\n",
    "        'b11', 'b22', \\\n",
    "        'As11', 'As12', 'As13',\\\n",
    "        'As21', 'As22', 'As23', 'Aso2', \\\n",
    "        'As31', 'As32', 'As33', 'Aso3', \\\n",
    "        'Bs11', 'Bs21', 'Bs22', 'Bs31', 'Bs32', 'Bs33',\\\n",
    "        'j21',  'j31',  'j32']"
   ]
  },
  {
   "cell_type": "code",
   "execution_count": 2,
   "id": "8b44d4dd",
   "metadata": {},
   "outputs": [],
   "source": [
    "def return_dir(seed):\n",
    "    case = 'actual data, seed = ' + str(seed) + ', T = ' + str(T) + ', N = ' + str(N)\n",
    "    return outputdir + case  + '/'\n",
    "\n",
    "casedir = []\n",
    "for i in range(batch_num):\n",
    "    casedir.append(return_dir(i))"
   ]
  },
  {
   "cell_type": "code",
   "execution_count": 3,
   "id": "5d400785",
   "metadata": {},
   "outputs": [
    {
     "name": "stderr",
     "output_type": "stream",
     "text": [
      "100%|███████████████████████████████████████████████████████████████████████████████████████████████████████████████████████████████████████████████████████████████████████████████████████████████████████████████████████████████████████| 150/150 [04:10<00:00,  1.67s/it]\n"
     ]
    }
   ],
   "source": [
    "t = 282\n",
    "θ_final = []\n",
    "success_seed = []\n",
    "for i in tqdm(range(1,batch_num)):\n",
    "    try:\n",
    "        with open(casedir[i] + 'θ_'+str(t)+'.pkl', 'rb') as f:\n",
    "            θ_final.append(pickle.load(f))\n",
    "        success_seed.append(i)\n",
    "    except:\n",
    "        pass"
   ]
  },
  {
   "cell_type": "code",
   "execution_count": 4,
   "id": "d212a328",
   "metadata": {},
   "outputs": [
    {
     "name": "stderr",
     "output_type": "stream",
     "text": [
      "100%|███████████████████████████████████████████████████████████████████████████████████████████████████████████████████████████████████████████████████████████████████| 149/149 [02:21<00:00,  1.05it/s]\n"
     ]
    }
   ],
   "source": [
    "def return_coll(θ_final):\n",
    "    λ_particle = []; η_particle = []; b11_particle = []; b22_particle = []\n",
    "    As11_particle = []; As12_particle = []; As13_particle = []; \n",
    "    As21_particle = []; As22_particle = []; As23_particle = []; Aso2_particle = []\n",
    "    As31_particle = []; As32_particle = []; As33_particle = []; Aso3_particle = []\n",
    "    Bs11_particle = []; Bs21_particle = []; Bs22_particle = []; Bs31_particle = []; Bs32_particle = []; Bs33_particle = []\n",
    "    j21_particle = []; j31_particle = []; j32_particle = [];\n",
    "    λ_iter_particle = []; Ass_iter_particle = []\n",
    "\n",
    "    for n in range(N):\n",
    "        λ_particle.append(θ_final[n][1][1,1])\n",
    "        η_particle.append(θ_final[n][0][1,0])\n",
    "        b11_particle.append(θ_final[n][2][0,0])\n",
    "        b22_particle.append(θ_final[n][2][1,1])\n",
    "        As11_particle.append(θ_final[n][4][0,0])\n",
    "        As12_particle.append(θ_final[n][4][0,1])\n",
    "        As13_particle.append(θ_final[n][4][0,2])\n",
    "        As21_particle.append(θ_final[n][4][1,0])\n",
    "        As22_particle.append(θ_final[n][4][1,1])\n",
    "        As23_particle.append(θ_final[n][4][1,2])\n",
    "        Aso2_particle.append(θ_final[n][3][1,0])\n",
    "        As31_particle.append(θ_final[n][4][2,0])\n",
    "        As32_particle.append(θ_final[n][4][2,1])\n",
    "        As33_particle.append(θ_final[n][4][2,2])\n",
    "        Aso3_particle.append(θ_final[n][3][2,0])\n",
    "        Bs11_particle.append(θ_final[n][5][0,0])\n",
    "        Bs21_particle.append(θ_final[n][5][1,0])\n",
    "        Bs22_particle.append(θ_final[n][5][1,1])\n",
    "        Bs31_particle.append(θ_final[n][5][2,0])\n",
    "        Bs32_particle.append(θ_final[n][5][2,1])\n",
    "        Bs33_particle.append(θ_final[n][5][2,2])\n",
    "        j21_particle.append(θ_final[n][6][1,0])\n",
    "        j31_particle.append(θ_final[n][6][2,0])\n",
    "        j32_particle.append(θ_final[n][6][2,1])\n",
    "        λ_iter_particle.append(θ_final[n][7])\n",
    "        Ass_iter_particle.append(θ_final[n][7])\n",
    "\n",
    "    θ_coll = [λ_particle, η_particle, b11_particle, b22_particle, \\\n",
    "              As11_particle, As12_particle, As13_particle,\\\n",
    "              As21_particle, As22_particle, As23_particle, Aso2_particle,\\\n",
    "              As31_particle, As32_particle, As33_particle, Aso3_particle,\\\n",
    "              Bs11_particle, Bs21_particle, Bs22_particle, Bs31_particle, Bs32_particle, Bs33_particle,\\\n",
    "              j21_particle, j31_particle, j32_particle]\n",
    "    return θ_coll\n",
    "\n",
    "θ_coll = []\n",
    "indexes = []\n",
    "for i in tqdm(range(len(θ_final))):\n",
    "    θ_coll.append(return_coll(θ_final[i]))\n",
    "    indexes.append('seed = '+str(success_seed[i]))"
   ]
  },
  {
   "cell_type": "code",
   "execution_count": null,
   "id": "056e864c",
   "metadata": {},
   "outputs": [
    {
     "name": "stderr",
     "output_type": "stream",
     "text": [
      "100%|███████████████████████████████████████████████████████████████████████████████████████████████████████████████████████████████████████████████████████████████████| 149/149 [11:37<00:00,  4.68s/it]\n",
      "100%|███████████████████████████████████████████████████████████████████████████████████████████████████████████████████████████████████████████████████████████████████| 149/149 [33:59<00:00, 13.69s/it]\n",
      " 62%|████████████████████████████████████████████████████████████████████████████████████████████████████████████████████████████████████████████████▊                                                                                       | 93/149 [09:30<31:29, 33.74s/it]"
     ]
    }
   ],
   "source": [
    "θ_all = []\n",
    "for i in range(len(θ_name)):\n",
    "    θ_t = []\n",
    "    for θs in tqdm(θ_coll):\n",
    "        θ_t = θ_t + θs[i]\n",
    "    θ_all.append(θ_t)"
   ]
  },
  {
   "cell_type": "code",
   "execution_count": null,
   "id": "09137511",
   "metadata": {},
   "outputs": [],
   "source": [
    "plot_series = []\n",
    "for i in tqdm(range(len(θ_name))):\n",
    "    plot_series.append(pd.DataFrame(θ_all[i]).T)"
   ]
  },
  {
   "cell_type": "code",
   "execution_count": null,
   "id": "fb46c238",
   "metadata": {},
   "outputs": [],
   "source": [
    "for i in tqdm(range(len(θ_all))): \n",
    "    with open(outputdir + 'θ_all_' + str(i) + '.pkl', 'wb') as f:\n",
    "            pickle.dump(θ_all[i], f)"
   ]
  },
  {
   "cell_type": "code",
   "execution_count": null,
   "id": "feafb140",
   "metadata": {},
   "outputs": [],
   "source": [
    "%%time\n",
    "period = t\n",
    "fig, axes = plt.subplots(6,4,figsize = (15,10))\n",
    "for v, ax in tqdm(enumerate(axes.flatten())):\n",
    "    sns.kdeplot(data = θ_all[v][0:10_000_000], ax = ax)\n",
    "    ax.set_title(θ_name[v])\n",
    "title = '100 Different Random seeds, Aggregate Distribution of parameters, T = '+ str(period)+', N = '+str(N)\n",
    "fig.suptitle(title, fontsize=16)    \n",
    "fig.tight_layout()\n",
    "fig.savefig(docdir + title + '.png',dpi = 400, bbox_inches = \"tight\")"
   ]
  },
  {
   "cell_type": "code",
   "execution_count": 50,
   "id": "534762e0",
   "metadata": {},
   "outputs": [],
   "source": []
  },
  {
   "cell_type": "code",
   "execution_count": null,
   "id": "0009f63d",
   "metadata": {},
   "outputs": [],
   "source": []
  }
 ],
 "metadata": {
  "kernelspec": {
   "display_name": "Python 3 (ipykernel)",
   "language": "python",
   "name": "python3"
  },
  "language_info": {
   "codemirror_mode": {
    "name": "ipython",
    "version": 3
   },
   "file_extension": ".py",
   "mimetype": "text/x-python",
   "name": "python",
   "nbconvert_exporter": "python",
   "pygments_lexer": "ipython3",
   "version": "3.9.12"
  }
 },
 "nbformat": 4,
 "nbformat_minor": 5
}
